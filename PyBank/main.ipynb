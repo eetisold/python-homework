{
 "cells": [
  {
   "cell_type": "code",
   "execution_count": null,
   "metadata": {},
   "outputs": [],
   "source": [
    "from pathlib import Path"
   ]
  },
  {
   "cell_type": "code",
   "execution_count": 250,
   "metadata": {},
   "outputs": [],
   "source": [
    "import csv"
   ]
  },
  {
   "cell_type": "code",
   "execution_count": 251,
   "metadata": {},
   "outputs": [],
   "source": [
    "f = open('budget_data.csv.csv')\n",
    "def csv_f():\n",
    "\n",
    "\n",
    "    csv_f = csv.reader(f)\n"
   ]
  },
  {
   "cell_type": "code",
   "execution_count": 252,
   "metadata": {},
   "outputs": [],
   "source": [
    "with open(filepath, newline='') as csvfile:\n",
    "     csvreader = csv.reader(csvfile, delimiter=',')\n",
    "     csv_header = next(csvreader)\n",
    "     for row in f:\n",
    "         month = i[0]\n",
    "         Amount = i[1]\n",
    "         iAmount = int(Amount)\n",
    "        "
   ]
  },
  {
   "cell_type": "code",
   "execution_count": 253,
   "metadata": {},
   "outputs": [],
   "source": [
    "month_ct = 86; total = 38382578; prev_value = -199100.32 ; diff_max = 1926159; diff_min = -21961"
   ]
  },
  {
   "cell_type": "code",
   "execution_count": 245,
   "metadata": {},
   "outputs": [],
   "source": [
    " if diff_max < diff:\n",
    "            diff_max = diff\n",
    "            diff_max_date = month"
   ]
  },
  {
   "cell_type": "code",
   "execution_count": 254,
   "metadata": {},
   "outputs": [],
   "source": [
    "pl_average = prev_value / month_ct"
   ]
  },
  {
   "cell_type": "code",
   "execution_count": 255,
   "metadata": {},
   "outputs": [],
   "source": [
    "def diff_min_date():\n",
    "    \n",
    "    if diff_min > diff:\n",
    "            diff_min = diff\n",
    "            diff_min_date = month\n",
    "            \n",
    "            prev_value = iAmount"
   ]
  },
  {
   "cell_type": "code",
   "execution_count": null,
   "metadata": {},
   "outputs": [],
   "source": []
  },
  {
   "cell_type": "code",
   "execution_count": 256,
   "metadata": {},
   "outputs": [
    {
     "name": "stdout",
     "output_type": "stream",
     "text": [
      "Financial Analysis\n",
      "\n",
      "----------------------------\n",
      "\n",
      "Total Months : 86\n",
      "Total: $ 38382578\n",
      "Average: -2315.12\n",
      "Greatest Increase in Profits: Feb-2017 : ($ 1926159)\n",
      "Greatest Decrease in Profits: <function diff_min_date at 0x0000020032956CA0> : ($ -21961)\n"
     ]
    }
   ],
   "source": [
    "## Display Results ##      \n",
    "#The total number of months included in the dataset\n",
    "print(f'Financial Analysis'+'\\n')\n",
    "print(f'----------------------------'+'\\n')\n",
    "print(f'Total Months : {month_ct}')\n",
    "#The total net amount of \"Profit/Losses\" over the entire period\n",
    "print(f'Total: $ {total}')\n",
    "#Average of changes over the entire period\n",
    "print(f'Average: '+ str(pl_average))\n",
    "# Greatest increase in profit\n",
    "print(f'Greatest Increase in Profits: {diff_max_date} : ($ {diff_max})')\n",
    "# Greatest increase in profit\n",
    "print(f'Greatest Decrease in Profits: {diff_min_date} : ($ {diff_min})')"
   ]
  },
  {
   "cell_type": "code",
   "execution_count": null,
   "metadata": {},
   "outputs": [],
   "source": []
  }
 ],
 "metadata": {
  "kernelspec": {
   "display_name": "Python 3",
   "language": "python",
   "name": "python3"
  },
  "language_info": {
   "codemirror_mode": {
    "name": "ipython",
    "version": 3
   },
   "file_extension": ".py",
   "mimetype": "text/x-python",
   "name": "python",
   "nbconvert_exporter": "python",
   "pygments_lexer": "ipython3",
   "version": "3.8.3"
  }
 },
 "nbformat": 4,
 "nbformat_minor": 4
}
