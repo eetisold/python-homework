from pathlib import Path

import csv

f = open('budget_data.csv.csv')
def csv_f():


    csv_f = csv.reader(f)

with open(filepath, newline='') as csvfile:
     csvreader = csv.reader(csvfile, delimiter=',')
     csv_header = next(csvreader)
     for row in f:
         month = i[0]
         Amount = i[1]
         iAmount = int(Amount)

month_ct = 86; total = 38382578; prev_value = -199100.32 ; diff_max = 1926159; diff_min = -21961

 if diff_max < diff:
            diff_max = diff
            diff_max_date = month

pl_average = prev_value / month_ct

def diff_min_date():
    
    if diff_min > diff:
            diff_min = diff
            diff_min_date = month
            
            prev_value = iAmount

# Display Results      
#The total number of months included in the dataset
print(f'Financial Analysis'+'\n')
print(f'----------------------------'+'\n')
print(f'Total Months : {month_ct}')
#The total net amount of "Profit/Losses" over the entire period
print(f'Total: $ {total}')
#Average of changes over the entire period
print(f'Average: '+ str(pl_average))
# Greatest increase in profit
print(f'Greatest Increase in Profits: {diff_max_date} : ($ {diff_max})')
# Greatest increase in profit
print(f'Greatest Decrease in Profits: {diff_min_date} : ($ {diff_min})')
